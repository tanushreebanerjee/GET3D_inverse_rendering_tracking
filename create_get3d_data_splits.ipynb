{
 "cells": [
  {
   "cell_type": "code",
   "execution_count": 1,
   "metadata": {},
   "outputs": [],
   "source": [
    "import os\n",
    "import numpy as np"
   ]
  },
  {
   "cell_type": "code",
   "execution_count": 2,
   "metadata": {},
   "outputs": [],
   "source": [
    "def read_file(file_path):\n",
    "    with open(file_path, \"r\") as myfile:\n",
    "        contents = myfile.read().replace('\\n', '')\n",
    "    return contents"
   ]
  },
  {
   "cell_type": "code",
   "execution_count": 3,
   "metadata": {},
   "outputs": [],
   "source": [
    "def get_file_names_in_directory(dir_path):\n",
    "    file_names = []\n",
    "    for _, dirs, _ in os.walk(dir_path):\n",
    "        for name in dirs:\n",
    "            file_names.append(name) \n",
    "    return file_names"
   ]
  },
  {
   "cell_type": "code",
   "execution_count": 4,
   "metadata": {},
   "outputs": [],
   "source": [
    "def store_idxs_in_txt(idxs, file_path):\n",
    "    with open(file_path, 'w') as f:\n",
    "        for idx in idxs:\n",
    "            f.write(\"%s\\n\" % idx)"
   ]
  },
  {
   "cell_type": "code",
   "execution_count": 5,
   "metadata": {},
   "outputs": [],
   "source": [
    "def create_train_val_test_splits(example_idxs, train_split, val_split, random_seed=0):\n",
    "    \n",
    "    # Shuffle the example names\n",
    "    np.random.seed(random_seed)\n",
    "    np.random.shuffle(example_idxs)\n",
    "    \n",
    "    # Split the example names into train, val, and test\n",
    "    train_split_index = int(len(example_idxs) * train_split)\n",
    "    val_split_index = int(len(example_idxs) * val_split) + train_split_index\n",
    "    \n",
    "    train_idxs = example_idxs[:train_split_index]\n",
    "    val_idxs = example_idxs[train_split_index:val_split_index]\n",
    "    test_idxs = example_idxs[val_split_index:]\n",
    "    \n",
    "    return train_idxs, val_idxs, test_idxs"
   ]
  },
  {
   "cell_type": "code",
   "execution_count": 6,
   "metadata": {},
   "outputs": [],
   "source": [
    "def main():\n",
    "    random_seed = 0\n",
    "    root_file_path = 'root.txt'\n",
    "    root_path = read_file(root_file_path)\n",
    "        \n",
    "    dir_path = f'{root_path}/render_shapenet_data/processed_get3d/camera/02958343'\n",
    "    split_path = f'{root_path}/3dgan_data_split/shapenet_car.txt'\n",
    "    split_dir = f'{root_path}/3dgan_data_split/shapenet_car'\n",
    "\n",
    "    # Get all the directory names in the processed_get3d directory\n",
    "    file_names = get_file_names_in_directory(dir_path)\n",
    "\n",
    "    # store the directory names in split_path file\n",
    "    store_idxs_in_txt(file_names, split_path)\n",
    "\n",
    "    # create train, val and test splits\n",
    "    train_examples, val_examples, test_examples = create_train_val_test_splits(file_names, 0.6, 0.2, random_seed=random_seed)\n",
    "\n",
    "    # store the train, val and test splits in separate text files\n",
    "    store_idxs_in_txt(train_examples, os.path.join(split_dir, 'train.txt'))\n",
    "    store_idxs_in_txt(val_examples, os.path.join(split_dir, 'val.txt'))\n",
    "    store_idxs_in_txt(test_examples, os.path.join(split_dir, 'test.txt'))\n",
    "\n",
    "    # print the number of examples in each split, and total number of examples\n",
    "    print(f'Number of examples in train split: {len(train_examples)}')\n",
    "    print(f'Number of examples in val split: {len(val_examples)}')\n",
    "    print(f'Number of examples in test split: {len(test_examples)}')\n",
    "    print(f'Total number of examples: {len(file_names)}')"
   ]
  },
  {
   "cell_type": "code",
   "execution_count": 7,
   "metadata": {},
   "outputs": [
    {
     "name": "stdout",
     "output_type": "stream",
     "text": [
      "Number of examples in train split: 1418\n",
      "Number of examples in val split: 472\n",
      "Number of examples in test split: 474\n",
      "Total number of examples: 2364\n"
     ]
    }
   ],
   "source": [
    "if __name__ == \"__main__\":\n",
    "    main()"
   ]
  }
 ],
 "metadata": {
  "kernelspec": {
   "display_name": "TorchSceneGraphs2",
   "language": "python",
   "name": "python3"
  },
  "language_info": {
   "codemirror_mode": {
    "name": "ipython",
    "version": 3
   },
   "file_extension": ".py",
   "mimetype": "text/x-python",
   "name": "python",
   "nbconvert_exporter": "python",
   "pygments_lexer": "ipython3",
   "version": "3.8.17"
  },
  "orig_nbformat": 4
 },
 "nbformat": 4,
 "nbformat_minor": 2
}
